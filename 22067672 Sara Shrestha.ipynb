{
 "cells": [
  {
   "cell_type": "markdown",
   "id": "ea08c83c",
   "metadata": {},
   "source": [
    "#### 2.1 Write a python program to load data into pandas DataFrame."
   ]
  },
  {
   "cell_type": "code",
   "execution_count": 1,
   "id": "ff5ed4ea",
   "metadata": {},
   "outputs": [],
   "source": [
    "# importing all the necessary python libraries\n",
    "import pandas as pd\n",
    "import numpy as np\n",
    "import matplotlib.pyplot as plt"
   ]
  },
  {
   "cell_type": "code",
   "execution_count": 2,
   "id": "02470660",
   "metadata": {},
   "outputs": [],
   "source": [
    "# reading csv file and storing it in dataframe named data\n",
    "data = pd.read_csv(\"DataScienceSalaries.csv\")"
   ]
  },
  {
   "cell_type": "code",
   "execution_count": 41,
   "id": "be049cb3",
   "metadata": {},
   "outputs": [
    {
     "data": {
      "text/html": [
       "<div>\n",
       "<style scoped>\n",
       "    .dataframe tbody tr th:only-of-type {\n",
       "        vertical-align: middle;\n",
       "    }\n",
       "\n",
       "    .dataframe tbody tr th {\n",
       "        vertical-align: top;\n",
       "    }\n",
       "\n",
       "    .dataframe thead th {\n",
       "        text-align: right;\n",
       "    }\n",
       "</style>\n",
       "<table border=\"1\" class=\"dataframe\">\n",
       "  <thead>\n",
       "    <tr style=\"text-align: right;\">\n",
       "      <th></th>\n",
       "      <th>work_year</th>\n",
       "      <th>experience_level</th>\n",
       "      <th>employment_type</th>\n",
       "      <th>job_title</th>\n",
       "      <th>salary_in_usd</th>\n",
       "      <th>employee_residence</th>\n",
       "      <th>remote_ratio</th>\n",
       "      <th>company_location</th>\n",
       "      <th>company_size</th>\n",
       "    </tr>\n",
       "  </thead>\n",
       "  <tbody>\n",
       "    <tr>\n",
       "      <th>0</th>\n",
       "      <td>2023</td>\n",
       "      <td>Senior Level/Expert</td>\n",
       "      <td>FT</td>\n",
       "      <td>Data Scientist</td>\n",
       "      <td>85847</td>\n",
       "      <td>ES</td>\n",
       "      <td>100</td>\n",
       "      <td>ES</td>\n",
       "      <td>L</td>\n",
       "    </tr>\n",
       "    <tr>\n",
       "      <th>1</th>\n",
       "      <td>2023</td>\n",
       "      <td>Medium Level/Intermediate</td>\n",
       "      <td>CT</td>\n",
       "      <td>ML Engineer</td>\n",
       "      <td>30000</td>\n",
       "      <td>US</td>\n",
       "      <td>100</td>\n",
       "      <td>US</td>\n",
       "      <td>S</td>\n",
       "    </tr>\n",
       "    <tr>\n",
       "      <th>2</th>\n",
       "      <td>2023</td>\n",
       "      <td>Medium Level/Intermediate</td>\n",
       "      <td>CT</td>\n",
       "      <td>ML Engineer</td>\n",
       "      <td>25500</td>\n",
       "      <td>US</td>\n",
       "      <td>100</td>\n",
       "      <td>US</td>\n",
       "      <td>S</td>\n",
       "    </tr>\n",
       "    <tr>\n",
       "      <th>3</th>\n",
       "      <td>2023</td>\n",
       "      <td>Senior Level/Expert</td>\n",
       "      <td>FT</td>\n",
       "      <td>Data Scientist</td>\n",
       "      <td>175000</td>\n",
       "      <td>CA</td>\n",
       "      <td>100</td>\n",
       "      <td>CA</td>\n",
       "      <td>M</td>\n",
       "    </tr>\n",
       "    <tr>\n",
       "      <th>4</th>\n",
       "      <td>2023</td>\n",
       "      <td>Senior Level/Expert</td>\n",
       "      <td>FT</td>\n",
       "      <td>Data Scientist</td>\n",
       "      <td>120000</td>\n",
       "      <td>CA</td>\n",
       "      <td>100</td>\n",
       "      <td>CA</td>\n",
       "      <td>M</td>\n",
       "    </tr>\n",
       "    <tr>\n",
       "      <th>...</th>\n",
       "      <td>...</td>\n",
       "      <td>...</td>\n",
       "      <td>...</td>\n",
       "      <td>...</td>\n",
       "      <td>...</td>\n",
       "      <td>...</td>\n",
       "      <td>...</td>\n",
       "      <td>...</td>\n",
       "      <td>...</td>\n",
       "    </tr>\n",
       "    <tr>\n",
       "      <th>3750</th>\n",
       "      <td>2020</td>\n",
       "      <td>Senior Level/Expert</td>\n",
       "      <td>FT</td>\n",
       "      <td>Data Scientist</td>\n",
       "      <td>412000</td>\n",
       "      <td>US</td>\n",
       "      <td>100</td>\n",
       "      <td>US</td>\n",
       "      <td>L</td>\n",
       "    </tr>\n",
       "    <tr>\n",
       "      <th>3751</th>\n",
       "      <td>2021</td>\n",
       "      <td>Medium Level/Intermediate</td>\n",
       "      <td>FT</td>\n",
       "      <td>Data Scientist</td>\n",
       "      <td>151000</td>\n",
       "      <td>US</td>\n",
       "      <td>100</td>\n",
       "      <td>US</td>\n",
       "      <td>L</td>\n",
       "    </tr>\n",
       "    <tr>\n",
       "      <th>3752</th>\n",
       "      <td>2020</td>\n",
       "      <td>Entry Level</td>\n",
       "      <td>FT</td>\n",
       "      <td>Data Scientist</td>\n",
       "      <td>105000</td>\n",
       "      <td>US</td>\n",
       "      <td>100</td>\n",
       "      <td>US</td>\n",
       "      <td>S</td>\n",
       "    </tr>\n",
       "    <tr>\n",
       "      <th>3753</th>\n",
       "      <td>2020</td>\n",
       "      <td>Entry Level</td>\n",
       "      <td>CT</td>\n",
       "      <td>Data Analyst</td>\n",
       "      <td>100000</td>\n",
       "      <td>US</td>\n",
       "      <td>100</td>\n",
       "      <td>US</td>\n",
       "      <td>L</td>\n",
       "    </tr>\n",
       "    <tr>\n",
       "      <th>3754</th>\n",
       "      <td>2021</td>\n",
       "      <td>Senior Level/Expert</td>\n",
       "      <td>FT</td>\n",
       "      <td>Data Manager</td>\n",
       "      <td>94665</td>\n",
       "      <td>IN</td>\n",
       "      <td>50</td>\n",
       "      <td>IN</td>\n",
       "      <td>L</td>\n",
       "    </tr>\n",
       "  </tbody>\n",
       "</table>\n",
       "<p>3755 rows × 9 columns</p>\n",
       "</div>"
      ],
      "text/plain": [
       "      work_year           experience_level employment_type       job_title  \\\n",
       "0          2023        Senior Level/Expert              FT  Data Scientist   \n",
       "1          2023  Medium Level/Intermediate              CT     ML Engineer   \n",
       "2          2023  Medium Level/Intermediate              CT     ML Engineer   \n",
       "3          2023        Senior Level/Expert              FT  Data Scientist   \n",
       "4          2023        Senior Level/Expert              FT  Data Scientist   \n",
       "...         ...                        ...             ...             ...   \n",
       "3750       2020        Senior Level/Expert              FT  Data Scientist   \n",
       "3751       2021  Medium Level/Intermediate              FT  Data Scientist   \n",
       "3752       2020                Entry Level              FT  Data Scientist   \n",
       "3753       2020                Entry Level              CT    Data Analyst   \n",
       "3754       2021        Senior Level/Expert              FT    Data Manager   \n",
       "\n",
       "      salary_in_usd employee_residence  remote_ratio company_location  \\\n",
       "0             85847                 ES           100               ES   \n",
       "1             30000                 US           100               US   \n",
       "2             25500                 US           100               US   \n",
       "3            175000                 CA           100               CA   \n",
       "4            120000                 CA           100               CA   \n",
       "...             ...                ...           ...              ...   \n",
       "3750         412000                 US           100               US   \n",
       "3751         151000                 US           100               US   \n",
       "3752         105000                 US           100               US   \n",
       "3753         100000                 US           100               US   \n",
       "3754          94665                 IN            50               IN   \n",
       "\n",
       "     company_size  \n",
       "0               L  \n",
       "1               S  \n",
       "2               S  \n",
       "3               M  \n",
       "4               M  \n",
       "...           ...  \n",
       "3750            L  \n",
       "3751            L  \n",
       "3752            S  \n",
       "3753            L  \n",
       "3754            L  \n",
       "\n",
       "[3755 rows x 9 columns]"
      ]
     },
     "execution_count": 41,
     "metadata": {},
     "output_type": "execute_result"
    }
   ],
   "source": [
    "data"
   ]
  },
  {
   "cell_type": "markdown",
   "id": "981f8cec",
   "metadata": {},
   "source": [
    "#### 2.2 Write a python program to remove unnecessary columns i.e., salary and salary currency."
   ]
  },
  {
   "cell_type": "code",
   "execution_count": 4,
   "id": "aa2d47e6",
   "metadata": {},
   "outputs": [
    {
     "data": {
      "text/plain": [
       "0         80000\n",
       "1         30000\n",
       "2         25500\n",
       "3        175000\n",
       "4        120000\n",
       "         ...   \n",
       "3750     412000\n",
       "3751     151000\n",
       "3752     105000\n",
       "3753     100000\n",
       "3754    7000000\n",
       "Name: salary, Length: 3755, dtype: int64"
      ]
     },
     "execution_count": 4,
     "metadata": {},
     "output_type": "execute_result"
    }
   ],
   "source": [
    "# removing salary column from dataframe named data\n",
    "data.pop(\"salary\")"
   ]
  },
  {
   "cell_type": "code",
   "execution_count": 5,
   "id": "f4902bf1",
   "metadata": {
    "scrolled": true
   },
   "outputs": [
    {
     "data": {
      "text/plain": [
       "0       EUR\n",
       "1       USD\n",
       "2       USD\n",
       "3       USD\n",
       "4       USD\n",
       "       ... \n",
       "3750    USD\n",
       "3751    USD\n",
       "3752    USD\n",
       "3753    USD\n",
       "3754    INR\n",
       "Name: salary_currency, Length: 3755, dtype: object"
      ]
     },
     "execution_count": 5,
     "metadata": {},
     "output_type": "execute_result"
    }
   ],
   "source": [
    "# removing salary currency column from dataframe named data\n",
    "data.pop(\"salary_currency\")"
   ]
  },
  {
   "cell_type": "code",
   "execution_count": 6,
   "id": "98715d6b",
   "metadata": {},
   "outputs": [
    {
     "data": {
      "text/plain": [
       "Index(['work_year', 'experience_level', 'employment_type', 'job_title',\n",
       "       'salary_in_usd', 'employee_residence', 'remote_ratio',\n",
       "       'company_location', 'company_size'],\n",
       "      dtype='object')"
      ]
     },
     "execution_count": 6,
     "metadata": {},
     "output_type": "execute_result"
    }
   ],
   "source": [
    "# checking if the columns are removed\n",
    "data.columns"
   ]
  },
  {
   "cell_type": "markdown",
   "id": "b3511217",
   "metadata": {},
   "source": [
    "#### 2.3 Write a python program to remove the NaN missing values from updated dataframe. "
   ]
  },
  {
   "cell_type": "code",
   "execution_count": 7,
   "id": "e6c264dc",
   "metadata": {},
   "outputs": [
    {
     "data": {
      "text/plain": [
       "work_year             0\n",
       "experience_level      0\n",
       "employment_type       0\n",
       "job_title             0\n",
       "salary_in_usd         0\n",
       "employee_residence    0\n",
       "remote_ratio          0\n",
       "company_location      0\n",
       "company_size          0\n",
       "dtype: int64"
      ]
     },
     "execution_count": 7,
     "metadata": {},
     "output_type": "execute_result"
    }
   ],
   "source": [
    "# checking for the null values in dataframe\n",
    "data.isnull().sum()"
   ]
  },
  {
   "cell_type": "markdown",
   "id": "792da242",
   "metadata": {},
   "source": [
    "#### 2.4 Write a python program to check duplicates value in the dataframe. "
   ]
  },
  {
   "cell_type": "code",
   "execution_count": 8,
   "id": "9773cf1f",
   "metadata": {},
   "outputs": [
    {
     "data": {
      "text/html": [
       "<div>\n",
       "<style scoped>\n",
       "    .dataframe tbody tr th:only-of-type {\n",
       "        vertical-align: middle;\n",
       "    }\n",
       "\n",
       "    .dataframe tbody tr th {\n",
       "        vertical-align: top;\n",
       "    }\n",
       "\n",
       "    .dataframe thead th {\n",
       "        text-align: right;\n",
       "    }\n",
       "</style>\n",
       "<table border=\"1\" class=\"dataframe\">\n",
       "  <thead>\n",
       "    <tr style=\"text-align: right;\">\n",
       "      <th></th>\n",
       "      <th>work_year</th>\n",
       "      <th>experience_level</th>\n",
       "      <th>employment_type</th>\n",
       "      <th>job_title</th>\n",
       "      <th>salary_in_usd</th>\n",
       "      <th>employee_residence</th>\n",
       "      <th>remote_ratio</th>\n",
       "      <th>company_location</th>\n",
       "      <th>company_size</th>\n",
       "    </tr>\n",
       "  </thead>\n",
       "  <tbody>\n",
       "    <tr>\n",
       "      <th>115</th>\n",
       "      <td>2023</td>\n",
       "      <td>SE</td>\n",
       "      <td>FT</td>\n",
       "      <td>Data Scientist</td>\n",
       "      <td>150000</td>\n",
       "      <td>US</td>\n",
       "      <td>0</td>\n",
       "      <td>US</td>\n",
       "      <td>M</td>\n",
       "    </tr>\n",
       "    <tr>\n",
       "      <th>123</th>\n",
       "      <td>2023</td>\n",
       "      <td>SE</td>\n",
       "      <td>FT</td>\n",
       "      <td>Analytics Engineer</td>\n",
       "      <td>289800</td>\n",
       "      <td>US</td>\n",
       "      <td>0</td>\n",
       "      <td>US</td>\n",
       "      <td>M</td>\n",
       "    </tr>\n",
       "    <tr>\n",
       "      <th>153</th>\n",
       "      <td>2023</td>\n",
       "      <td>MI</td>\n",
       "      <td>FT</td>\n",
       "      <td>Data Engineer</td>\n",
       "      <td>100000</td>\n",
       "      <td>US</td>\n",
       "      <td>100</td>\n",
       "      <td>US</td>\n",
       "      <td>M</td>\n",
       "    </tr>\n",
       "    <tr>\n",
       "      <th>154</th>\n",
       "      <td>2023</td>\n",
       "      <td>MI</td>\n",
       "      <td>FT</td>\n",
       "      <td>Data Engineer</td>\n",
       "      <td>70000</td>\n",
       "      <td>US</td>\n",
       "      <td>100</td>\n",
       "      <td>US</td>\n",
       "      <td>M</td>\n",
       "    </tr>\n",
       "    <tr>\n",
       "      <th>160</th>\n",
       "      <td>2023</td>\n",
       "      <td>SE</td>\n",
       "      <td>FT</td>\n",
       "      <td>Data Engineer</td>\n",
       "      <td>115000</td>\n",
       "      <td>US</td>\n",
       "      <td>0</td>\n",
       "      <td>US</td>\n",
       "      <td>M</td>\n",
       "    </tr>\n",
       "    <tr>\n",
       "      <th>...</th>\n",
       "      <td>...</td>\n",
       "      <td>...</td>\n",
       "      <td>...</td>\n",
       "      <td>...</td>\n",
       "      <td>...</td>\n",
       "      <td>...</td>\n",
       "      <td>...</td>\n",
       "      <td>...</td>\n",
       "      <td>...</td>\n",
       "    </tr>\n",
       "    <tr>\n",
       "      <th>3439</th>\n",
       "      <td>2022</td>\n",
       "      <td>MI</td>\n",
       "      <td>FT</td>\n",
       "      <td>Data Scientist</td>\n",
       "      <td>78000</td>\n",
       "      <td>US</td>\n",
       "      <td>100</td>\n",
       "      <td>US</td>\n",
       "      <td>M</td>\n",
       "    </tr>\n",
       "    <tr>\n",
       "      <th>3440</th>\n",
       "      <td>2022</td>\n",
       "      <td>SE</td>\n",
       "      <td>FT</td>\n",
       "      <td>Data Engineer</td>\n",
       "      <td>135000</td>\n",
       "      <td>US</td>\n",
       "      <td>100</td>\n",
       "      <td>US</td>\n",
       "      <td>M</td>\n",
       "    </tr>\n",
       "    <tr>\n",
       "      <th>3441</th>\n",
       "      <td>2022</td>\n",
       "      <td>SE</td>\n",
       "      <td>FT</td>\n",
       "      <td>Data Engineer</td>\n",
       "      <td>115000</td>\n",
       "      <td>US</td>\n",
       "      <td>100</td>\n",
       "      <td>US</td>\n",
       "      <td>M</td>\n",
       "    </tr>\n",
       "    <tr>\n",
       "      <th>3586</th>\n",
       "      <td>2021</td>\n",
       "      <td>MI</td>\n",
       "      <td>FT</td>\n",
       "      <td>Data Engineer</td>\n",
       "      <td>200000</td>\n",
       "      <td>US</td>\n",
       "      <td>100</td>\n",
       "      <td>US</td>\n",
       "      <td>L</td>\n",
       "    </tr>\n",
       "    <tr>\n",
       "      <th>3709</th>\n",
       "      <td>2021</td>\n",
       "      <td>MI</td>\n",
       "      <td>FT</td>\n",
       "      <td>Data Scientist</td>\n",
       "      <td>90734</td>\n",
       "      <td>DE</td>\n",
       "      <td>50</td>\n",
       "      <td>DE</td>\n",
       "      <td>L</td>\n",
       "    </tr>\n",
       "  </tbody>\n",
       "</table>\n",
       "<p>1171 rows × 9 columns</p>\n",
       "</div>"
      ],
      "text/plain": [
       "      work_year experience_level employment_type           job_title  \\\n",
       "115        2023               SE              FT      Data Scientist   \n",
       "123        2023               SE              FT  Analytics Engineer   \n",
       "153        2023               MI              FT       Data Engineer   \n",
       "154        2023               MI              FT       Data Engineer   \n",
       "160        2023               SE              FT       Data Engineer   \n",
       "...         ...              ...             ...                 ...   \n",
       "3439       2022               MI              FT      Data Scientist   \n",
       "3440       2022               SE              FT       Data Engineer   \n",
       "3441       2022               SE              FT       Data Engineer   \n",
       "3586       2021               MI              FT       Data Engineer   \n",
       "3709       2021               MI              FT      Data Scientist   \n",
       "\n",
       "      salary_in_usd employee_residence  remote_ratio company_location  \\\n",
       "115          150000                 US             0               US   \n",
       "123          289800                 US             0               US   \n",
       "153          100000                 US           100               US   \n",
       "154           70000                 US           100               US   \n",
       "160          115000                 US             0               US   \n",
       "...             ...                ...           ...              ...   \n",
       "3439          78000                 US           100               US   \n",
       "3440         135000                 US           100               US   \n",
       "3441         115000                 US           100               US   \n",
       "3586         200000                 US           100               US   \n",
       "3709          90734                 DE            50               DE   \n",
       "\n",
       "     company_size  \n",
       "115             M  \n",
       "123             M  \n",
       "153             M  \n",
       "154             M  \n",
       "160             M  \n",
       "...           ...  \n",
       "3439            M  \n",
       "3440            M  \n",
       "3441            M  \n",
       "3586            L  \n",
       "3709            L  \n",
       "\n",
       "[1171 rows x 9 columns]"
      ]
     },
     "execution_count": 8,
     "metadata": {},
     "output_type": "execute_result"
    }
   ],
   "source": [
    "# checking for duplicate data\n",
    "data[data.duplicated()]"
   ]
  },
  {
   "cell_type": "markdown",
   "id": "8f0809f6",
   "metadata": {},
   "source": [
    "#### 2.5 Write a python program to see the unique values from all the columns in the dataframe."
   ]
  },
  {
   "cell_type": "code",
   "execution_count": 9,
   "id": "f1b9c4d5",
   "metadata": {},
   "outputs": [
    {
     "data": {
      "text/plain": [
       "work_year                4\n",
       "experience_level         4\n",
       "employment_type          4\n",
       "job_title               93\n",
       "salary_in_usd         1035\n",
       "employee_residence      78\n",
       "remote_ratio             3\n",
       "company_location        72\n",
       "company_size             3\n",
       "dtype: int64"
      ]
     },
     "execution_count": 9,
     "metadata": {},
     "output_type": "execute_result"
    }
   ],
   "source": [
    "# checking the number of unique items in all the columns\n",
    "data.nunique()"
   ]
  },
  {
   "cell_type": "code",
   "execution_count": 10,
   "id": "d40e85ed",
   "metadata": {},
   "outputs": [
    {
     "name": "stdout",
     "output_type": "stream",
     "text": [
      "Unique values in 'work_year':\n",
      "[2023 2022 2020 2021]\n",
      "Unique values in 'experience_level':\n",
      "['SE' 'MI' 'EN' 'EX']\n",
      "Unique values in 'employment_type':\n",
      "['FT' 'CT' 'FL' 'PT']\n",
      "Unique values in 'job_title':\n",
      "['Principal Data Scientist' 'ML Engineer' 'Data Scientist'\n",
      " 'Applied Scientist' 'Data Analyst' 'Data Modeler' 'Research Engineer'\n",
      " 'Analytics Engineer' 'Business Intelligence Engineer'\n",
      " 'Machine Learning Engineer' 'Data Strategist' 'Data Engineer'\n",
      " 'Computer Vision Engineer' 'Data Quality Analyst'\n",
      " 'Compliance Data Analyst' 'Data Architect'\n",
      " 'Applied Machine Learning Engineer' 'AI Developer' 'Research Scientist'\n",
      " 'Data Analytics Manager' 'Business Data Analyst' 'Applied Data Scientist'\n",
      " 'Staff Data Analyst' 'ETL Engineer' 'Data DevOps Engineer' 'Head of Data'\n",
      " 'Data Science Manager' 'Data Manager' 'Machine Learning Researcher'\n",
      " 'Big Data Engineer' 'Data Specialist' 'Lead Data Analyst'\n",
      " 'BI Data Engineer' 'Director of Data Science'\n",
      " 'Machine Learning Scientist' 'MLOps Engineer' 'AI Scientist'\n",
      " 'Autonomous Vehicle Technician' 'Applied Machine Learning Scientist'\n",
      " 'Lead Data Scientist' 'Cloud Database Engineer' 'Financial Data Analyst'\n",
      " 'Data Infrastructure Engineer' 'Software Data Engineer' 'AI Programmer'\n",
      " 'Data Operations Engineer' 'BI Developer' 'Data Science Lead'\n",
      " 'Deep Learning Researcher' 'BI Analyst' 'Data Science Consultant'\n",
      " 'Data Analytics Specialist' 'Machine Learning Infrastructure Engineer'\n",
      " 'BI Data Analyst' 'Head of Data Science' 'Insight Analyst'\n",
      " 'Deep Learning Engineer' 'Machine Learning Software Engineer'\n",
      " 'Big Data Architect' 'Product Data Analyst'\n",
      " 'Computer Vision Software Engineer' 'Azure Data Engineer'\n",
      " 'Marketing Data Engineer' 'Data Analytics Lead' 'Data Lead'\n",
      " 'Data Science Engineer' 'Machine Learning Research Engineer'\n",
      " 'NLP Engineer' 'Manager Data Management' 'Machine Learning Developer'\n",
      " '3D Computer Vision Researcher' 'Principal Machine Learning Engineer'\n",
      " 'Data Analytics Engineer' 'Data Analytics Consultant'\n",
      " 'Data Management Specialist' 'Data Science Tech Lead'\n",
      " 'Data Scientist Lead' 'Cloud Data Engineer' 'Data Operations Analyst'\n",
      " 'Marketing Data Analyst' 'Power BI Developer' 'Product Data Scientist'\n",
      " 'Principal Data Architect' 'Machine Learning Manager'\n",
      " 'Lead Machine Learning Engineer' 'ETL Developer' 'Cloud Data Architect'\n",
      " 'Lead Data Engineer' 'Head of Machine Learning' 'Principal Data Analyst'\n",
      " 'Principal Data Engineer' 'Staff Data Scientist' 'Finance Data Analyst']\n",
      "Unique values in 'salary_in_usd':\n",
      "[ 85847  30000  25500 ...  28369 412000  94665]\n",
      "Unique values in 'employee_residence':\n",
      "['ES' 'US' 'CA' 'DE' 'GB' 'NG' 'IN' 'HK' 'PT' 'NL' 'CH' 'CF' 'FR' 'AU'\n",
      " 'FI' 'UA' 'IE' 'IL' 'GH' 'AT' 'CO' 'SG' 'SE' 'SI' 'MX' 'UZ' 'BR' 'TH'\n",
      " 'HR' 'PL' 'KW' 'VN' 'CY' 'AR' 'AM' 'BA' 'KE' 'GR' 'MK' 'LV' 'RO' 'PK'\n",
      " 'IT' 'MA' 'LT' 'BE' 'AS' 'IR' 'HU' 'SK' 'CN' 'CZ' 'CR' 'TR' 'CL' 'PR'\n",
      " 'DK' 'BO' 'PH' 'DO' 'EG' 'ID' 'AE' 'MY' 'JP' 'EE' 'HN' 'TN' 'RU' 'DZ'\n",
      " 'IQ' 'BG' 'JE' 'RS' 'NZ' 'MD' 'LU' 'MT']\n",
      "Unique values in 'remote_ratio':\n",
      "[100   0  50]\n",
      "Unique values in 'company_location':\n",
      "['ES' 'US' 'CA' 'DE' 'GB' 'NG' 'IN' 'HK' 'NL' 'CH' 'CF' 'FR' 'FI' 'UA'\n",
      " 'IE' 'IL' 'GH' 'CO' 'SG' 'AU' 'SE' 'SI' 'MX' 'BR' 'PT' 'RU' 'TH' 'HR'\n",
      " 'VN' 'EE' 'AM' 'BA' 'KE' 'GR' 'MK' 'LV' 'RO' 'PK' 'IT' 'MA' 'PL' 'AL'\n",
      " 'AR' 'LT' 'AS' 'CR' 'IR' 'BS' 'HU' 'AT' 'SK' 'CZ' 'TR' 'PR' 'DK' 'BO'\n",
      " 'PH' 'BE' 'ID' 'EG' 'AE' 'LU' 'MY' 'HN' 'JP' 'DZ' 'IQ' 'CN' 'NZ' 'CL'\n",
      " 'MD' 'MT']\n",
      "Unique values in 'company_size':\n",
      "['L' 'S' 'M']\n"
     ]
    }
   ],
   "source": [
    "# checking unique values in dataframe\n",
    "for column in data.columns:\n",
    "    print(f\"Unique values in '{column}':\")\n",
    "    print(data[column].unique())"
   ]
  },
  {
   "cell_type": "markdown",
   "id": "c80a8458",
   "metadata": {},
   "source": [
    "#### 2.6 Rename the experience level columns as below.\n",
    "SE – Senior Level/Expert\n",
    "MI – Medium Level/Intermediate\n",
    "EN – Entry Level\n",
    "EX – Executive Level"
   ]
  },
  {
   "cell_type": "code",
   "execution_count": 11,
   "id": "95e8dd44",
   "metadata": {},
   "outputs": [],
   "source": [
    "# replacing the names\n",
    "data['experience_level'].replace({'SE':'Senior Level/Expert',\n",
    "                                 'MI':'Medium Level/Intermediate',\n",
    "                                 'EN':'Entry Level',\n",
    "                                 'EX':'Executive Level'}, inplace = True)"
   ]
  },
  {
   "cell_type": "code",
   "execution_count": 12,
   "id": "75c2b28b",
   "metadata": {},
   "outputs": [
    {
     "data": {
      "text/html": [
       "<div>\n",
       "<style scoped>\n",
       "    .dataframe tbody tr th:only-of-type {\n",
       "        vertical-align: middle;\n",
       "    }\n",
       "\n",
       "    .dataframe tbody tr th {\n",
       "        vertical-align: top;\n",
       "    }\n",
       "\n",
       "    .dataframe thead th {\n",
       "        text-align: right;\n",
       "    }\n",
       "</style>\n",
       "<table border=\"1\" class=\"dataframe\">\n",
       "  <thead>\n",
       "    <tr style=\"text-align: right;\">\n",
       "      <th></th>\n",
       "      <th>work_year</th>\n",
       "      <th>experience_level</th>\n",
       "      <th>employment_type</th>\n",
       "      <th>job_title</th>\n",
       "      <th>salary_in_usd</th>\n",
       "      <th>employee_residence</th>\n",
       "      <th>remote_ratio</th>\n",
       "      <th>company_location</th>\n",
       "      <th>company_size</th>\n",
       "    </tr>\n",
       "  </thead>\n",
       "  <tbody>\n",
       "    <tr>\n",
       "      <th>0</th>\n",
       "      <td>2023</td>\n",
       "      <td>Senior Level/Expert</td>\n",
       "      <td>FT</td>\n",
       "      <td>Principal Data Scientist</td>\n",
       "      <td>85847</td>\n",
       "      <td>ES</td>\n",
       "      <td>100</td>\n",
       "      <td>ES</td>\n",
       "      <td>L</td>\n",
       "    </tr>\n",
       "    <tr>\n",
       "      <th>1</th>\n",
       "      <td>2023</td>\n",
       "      <td>Medium Level/Intermediate</td>\n",
       "      <td>CT</td>\n",
       "      <td>ML Engineer</td>\n",
       "      <td>30000</td>\n",
       "      <td>US</td>\n",
       "      <td>100</td>\n",
       "      <td>US</td>\n",
       "      <td>S</td>\n",
       "    </tr>\n",
       "    <tr>\n",
       "      <th>2</th>\n",
       "      <td>2023</td>\n",
       "      <td>Medium Level/Intermediate</td>\n",
       "      <td>CT</td>\n",
       "      <td>ML Engineer</td>\n",
       "      <td>25500</td>\n",
       "      <td>US</td>\n",
       "      <td>100</td>\n",
       "      <td>US</td>\n",
       "      <td>S</td>\n",
       "    </tr>\n",
       "    <tr>\n",
       "      <th>3</th>\n",
       "      <td>2023</td>\n",
       "      <td>Senior Level/Expert</td>\n",
       "      <td>FT</td>\n",
       "      <td>Data Scientist</td>\n",
       "      <td>175000</td>\n",
       "      <td>CA</td>\n",
       "      <td>100</td>\n",
       "      <td>CA</td>\n",
       "      <td>M</td>\n",
       "    </tr>\n",
       "    <tr>\n",
       "      <th>4</th>\n",
       "      <td>2023</td>\n",
       "      <td>Senior Level/Expert</td>\n",
       "      <td>FT</td>\n",
       "      <td>Data Scientist</td>\n",
       "      <td>120000</td>\n",
       "      <td>CA</td>\n",
       "      <td>100</td>\n",
       "      <td>CA</td>\n",
       "      <td>M</td>\n",
       "    </tr>\n",
       "    <tr>\n",
       "      <th>...</th>\n",
       "      <td>...</td>\n",
       "      <td>...</td>\n",
       "      <td>...</td>\n",
       "      <td>...</td>\n",
       "      <td>...</td>\n",
       "      <td>...</td>\n",
       "      <td>...</td>\n",
       "      <td>...</td>\n",
       "      <td>...</td>\n",
       "    </tr>\n",
       "    <tr>\n",
       "      <th>3750</th>\n",
       "      <td>2020</td>\n",
       "      <td>Senior Level/Expert</td>\n",
       "      <td>FT</td>\n",
       "      <td>Data Scientist</td>\n",
       "      <td>412000</td>\n",
       "      <td>US</td>\n",
       "      <td>100</td>\n",
       "      <td>US</td>\n",
       "      <td>L</td>\n",
       "    </tr>\n",
       "    <tr>\n",
       "      <th>3751</th>\n",
       "      <td>2021</td>\n",
       "      <td>Medium Level/Intermediate</td>\n",
       "      <td>FT</td>\n",
       "      <td>Principal Data Scientist</td>\n",
       "      <td>151000</td>\n",
       "      <td>US</td>\n",
       "      <td>100</td>\n",
       "      <td>US</td>\n",
       "      <td>L</td>\n",
       "    </tr>\n",
       "    <tr>\n",
       "      <th>3752</th>\n",
       "      <td>2020</td>\n",
       "      <td>Entry Level</td>\n",
       "      <td>FT</td>\n",
       "      <td>Data Scientist</td>\n",
       "      <td>105000</td>\n",
       "      <td>US</td>\n",
       "      <td>100</td>\n",
       "      <td>US</td>\n",
       "      <td>S</td>\n",
       "    </tr>\n",
       "    <tr>\n",
       "      <th>3753</th>\n",
       "      <td>2020</td>\n",
       "      <td>Entry Level</td>\n",
       "      <td>CT</td>\n",
       "      <td>Business Data Analyst</td>\n",
       "      <td>100000</td>\n",
       "      <td>US</td>\n",
       "      <td>100</td>\n",
       "      <td>US</td>\n",
       "      <td>L</td>\n",
       "    </tr>\n",
       "    <tr>\n",
       "      <th>3754</th>\n",
       "      <td>2021</td>\n",
       "      <td>Senior Level/Expert</td>\n",
       "      <td>FT</td>\n",
       "      <td>Data Science Manager</td>\n",
       "      <td>94665</td>\n",
       "      <td>IN</td>\n",
       "      <td>50</td>\n",
       "      <td>IN</td>\n",
       "      <td>L</td>\n",
       "    </tr>\n",
       "  </tbody>\n",
       "</table>\n",
       "<p>3755 rows × 9 columns</p>\n",
       "</div>"
      ],
      "text/plain": [
       "      work_year           experience_level employment_type  \\\n",
       "0          2023        Senior Level/Expert              FT   \n",
       "1          2023  Medium Level/Intermediate              CT   \n",
       "2          2023  Medium Level/Intermediate              CT   \n",
       "3          2023        Senior Level/Expert              FT   \n",
       "4          2023        Senior Level/Expert              FT   \n",
       "...         ...                        ...             ...   \n",
       "3750       2020        Senior Level/Expert              FT   \n",
       "3751       2021  Medium Level/Intermediate              FT   \n",
       "3752       2020                Entry Level              FT   \n",
       "3753       2020                Entry Level              CT   \n",
       "3754       2021        Senior Level/Expert              FT   \n",
       "\n",
       "                     job_title  salary_in_usd employee_residence  \\\n",
       "0     Principal Data Scientist          85847                 ES   \n",
       "1                  ML Engineer          30000                 US   \n",
       "2                  ML Engineer          25500                 US   \n",
       "3               Data Scientist         175000                 CA   \n",
       "4               Data Scientist         120000                 CA   \n",
       "...                        ...            ...                ...   \n",
       "3750            Data Scientist         412000                 US   \n",
       "3751  Principal Data Scientist         151000                 US   \n",
       "3752            Data Scientist         105000                 US   \n",
       "3753     Business Data Analyst         100000                 US   \n",
       "3754      Data Science Manager          94665                 IN   \n",
       "\n",
       "      remote_ratio company_location company_size  \n",
       "0              100               ES            L  \n",
       "1              100               US            S  \n",
       "2              100               US            S  \n",
       "3              100               CA            M  \n",
       "4              100               CA            M  \n",
       "...            ...              ...          ...  \n",
       "3750           100               US            L  \n",
       "3751           100               US            L  \n",
       "3752           100               US            S  \n",
       "3753           100               US            L  \n",
       "3754            50               IN            L  \n",
       "\n",
       "[3755 rows x 9 columns]"
      ]
     },
     "execution_count": 12,
     "metadata": {},
     "output_type": "execute_result"
    }
   ],
   "source": [
    "data"
   ]
  },
  {
   "cell_type": "markdown",
   "id": "fe85f481",
   "metadata": {},
   "source": [
    "#### 3.1 Write a Python program to show summary statistics of sum, mean, standard deviation, skewness, and kurtosis of any chosen variable. "
   ]
  },
  {
   "cell_type": "code",
   "execution_count": 13,
   "id": "f922ca31",
   "metadata": {},
   "outputs": [
    {
     "name": "stdout",
     "output_type": "stream",
     "text": [
      "The sum of salary of employees is : 516576814\n"
     ]
    }
   ],
   "source": [
    "# calculating sum of salary of employees in usd\n",
    "sum = data['salary_in_usd'].sum()\n",
    "print(f\"The sum of salary of employees is : {sum}\")"
   ]
  },
  {
   "cell_type": "code",
   "execution_count": 14,
   "id": "35237547",
   "metadata": {},
   "outputs": [
    {
     "name": "stdout",
     "output_type": "stream",
     "text": [
      "The mean of salary of employees is : 137570.38988015978\n"
     ]
    }
   ],
   "source": [
    "# calculating mean of salary in usd\n",
    "mean = data['salary_in_usd'].mean()\n",
    "print(f\"The mean of salary of employees is : {mean}\")"
   ]
  },
  {
   "cell_type": "code",
   "execution_count": 15,
   "id": "a151536d",
   "metadata": {},
   "outputs": [
    {
     "name": "stdout",
     "output_type": "stream",
     "text": [
      "The stanadard deviation of salary of employees is : 63055.625278224084\n"
     ]
    }
   ],
   "source": [
    "# calculating standard deviation of salary in usd\n",
    "standard_deviation = data['salary_in_usd'].std()\n",
    "print(f\"The stanadard deviation of salary of employees is : {standard_deviation}\")"
   ]
  },
  {
   "cell_type": "code",
   "execution_count": 16,
   "id": "a531c9bb",
   "metadata": {},
   "outputs": [
    {
     "name": "stdout",
     "output_type": "stream",
     "text": [
      "The skewness of salary of employees is : 0.5364011659712974\n"
     ]
    }
   ],
   "source": [
    "# calculating skewness of salary in usd\n",
    "skewness = data['salary_in_usd'].skew()\n",
    "print(f\"The skewness of salary of employees is : {skewness}\")"
   ]
  },
  {
   "cell_type": "code",
   "execution_count": 17,
   "id": "9abc10e3",
   "metadata": {},
   "outputs": [
    {
     "name": "stdout",
     "output_type": "stream",
     "text": [
      "The kurtosis of salary of employees is : 0.8340064594833612\n"
     ]
    }
   ],
   "source": [
    "# calculating kurtosis od salary in usd\n",
    "kurtosis = data['salary_in_usd'].kurtosis()\n",
    "print(f\"The kurtosis of salary of employees is : {kurtosis}\")"
   ]
  },
  {
   "cell_type": "markdown",
   "id": "c0db932b",
   "metadata": {},
   "source": [
    "#### 3.2 Write a Python program to calculate and show correlation of all variables. "
   ]
  },
  {
   "cell_type": "code",
   "execution_count": 18,
   "id": "6bce78e9",
   "metadata": {},
   "outputs": [
    {
     "name": "stdout",
     "output_type": "stream",
     "text": [
      "Correlations of all the variables:\n",
      "               work_year  salary_in_usd  remote_ratio\n",
      "work_year        1.00000       0.228290     -0.236430\n",
      "salary_in_usd    0.22829       1.000000     -0.064171\n",
      "remote_ratio    -0.23643      -0.064171      1.000000\n"
     ]
    }
   ],
   "source": [
    "# calculating correlation of all the variables\n",
    "correlations = data.corr(numeric_only = True)\n",
    "print(\"Correlations of all the variables:\")\n",
    "print(correlations)"
   ]
  },
  {
   "cell_type": "markdown",
   "id": "16d9d04c",
   "metadata": {},
   "source": [
    "#### Making the data consistent"
   ]
  },
  {
   "cell_type": "code",
   "execution_count": 19,
   "id": "87e6191b",
   "metadata": {},
   "outputs": [],
   "source": [
    "# since there are inconsistent data, we make the data consistent\n",
    "data['job_title'] = data['job_title'].replace(\n",
    "    ['Data Quality Analyst', 'Compliance Data Analyst',\n",
    "     'Business Data Analyst', 'Staff Data Analyst', \n",
    "     'Lead Data Analyst', 'Financial Data Analyst', \n",
    "     'BI Data Analyst', 'Product Data Analyst', \n",
    "     'Marketing Data Analyst', 'Principal Data Analyst', \n",
    "     'Finance Data Analyst', 'Data Operations Analyst'], 'Data Analyst')"
   ]
  },
  {
   "cell_type": "code",
   "execution_count": 20,
   "id": "62650f25",
   "metadata": {},
   "outputs": [],
   "source": [
    "data['job_title'] = data['job_title'].replace(\n",
    "    ['Principal Data Scientist', 'Applied Data Scientist',\n",
    "     'Lead Data Scientist', 'Data Scientist Lead', \n",
    "     'Product Data Scientist', 'Staff Data Scientist', \n",
    "     'Applied Scientist'], 'Data Scientist')"
   ]
  },
  {
   "cell_type": "code",
   "execution_count": 21,
   "id": "e81182c4",
   "metadata": {},
   "outputs": [],
   "source": [
    "data['job_title'] = data['job_title'].replace(\n",
    "    ['Machine Learning Engineer', 'Applied Machine Learning Engineer',\n",
    "     'Principal Machine Learning Engineer', 'Lead Machine Learning Engineer', \n",
    "     'Machine Learning Infrastructure Engineer', 'Machine Learning Software Engineer', \n",
    "     'Machine Learning Research Engineer', 'MLOps Engineer'], 'ML Engineer')"
   ]
  },
  {
   "cell_type": "code",
   "execution_count": 22,
   "id": "40258b0f",
   "metadata": {},
   "outputs": [],
   "source": [
    "data['job_title'] = data['job_title'].replace(\n",
    "    ['Machine Learning Scientist', 'Applied Machine Learning Scientist'], 'Machine Learning Scientist')"
   ]
  },
  {
   "cell_type": "code",
   "execution_count": 23,
   "id": "81652360",
   "metadata": {},
   "outputs": [],
   "source": [
    "data['job_title'] = data['job_title'].replace('Big Data Engineer', 'Data Engineer')"
   ]
  },
  {
   "cell_type": "code",
   "execution_count": 24,
   "id": "bd67e681",
   "metadata": {},
   "outputs": [],
   "source": [
    "data['job_title'] = data['job_title'].replace(\n",
    "    ['BI Data Engineer', 'Software Data Engineer',\n",
    "     'Azure Data Engineer', 'Marketing Data Engineer', \n",
    "     'Cloud Data Engineer', 'Lead Data Engineer', \n",
    "     'Principal Data Engineer', 'Data Science Engineer', \n",
    "     'Data Analytics Engineer', 'Data Infrastructure Engineer ', \n",
    "     'Data Operations Engineer'], 'Data Engineer')"
   ]
  },
  {
   "cell_type": "code",
   "execution_count": 25,
   "id": "ebe90f75",
   "metadata": {},
   "outputs": [],
   "source": [
    "data['job_title'] = data['job_title'].replace('Data Science Tech Lead', 'Data Science Lead')"
   ]
  },
  {
   "cell_type": "code",
   "execution_count": 26,
   "id": "0f0dd7d8",
   "metadata": {},
   "outputs": [],
   "source": [
    "data['job_title'] = data['job_title'].replace('Head of Data Science', 'Head of Data')"
   ]
  },
  {
   "cell_type": "code",
   "execution_count": 27,
   "id": "970449c7",
   "metadata": {},
   "outputs": [],
   "source": [
    "data['job_title'] = data['job_title'].replace(['Data Management Specialist', 'Data Analytics Specialist'], 'Data Specialist')"
   ]
  },
  {
   "cell_type": "code",
   "execution_count": 28,
   "id": "7dbc171c",
   "metadata": {},
   "outputs": [],
   "source": [
    "data['job_title'] = data['job_title'].replace(\n",
    "    ['Data Science Manager', 'Data Analytics Manager', 'Manager Data Management'], 'Data Manager')"
   ]
  },
  {
   "cell_type": "code",
   "execution_count": 29,
   "id": "84e2f851",
   "metadata": {},
   "outputs": [],
   "source": [
    "data['job_title'] = data['job_title'].replace(\n",
    "    ['Big Data Architect', 'Principal Data Architect', 'Cloud Data Architect'], 'Data Architect')"
   ]
  },
  {
   "cell_type": "code",
   "execution_count": 30,
   "id": "2ce2ee26",
   "metadata": {},
   "outputs": [],
   "source": [
    "data['job_title'] = data['job_title'].replace('Computer Vision Software Engineer', 'Computer Vision Engineer')"
   ]
  },
  {
   "cell_type": "code",
   "execution_count": 31,
   "id": "f72ff9c7",
   "metadata": {},
   "outputs": [],
   "source": [
    "data['job_title'] = data['job_title'].replace('Data Analytics Lead', 'Data Lead')"
   ]
  },
  {
   "cell_type": "code",
   "execution_count": 32,
   "id": "f1b35d73",
   "metadata": {},
   "outputs": [
    {
     "data": {
      "text/html": [
       "<div>\n",
       "<style scoped>\n",
       "    .dataframe tbody tr th:only-of-type {\n",
       "        vertical-align: middle;\n",
       "    }\n",
       "\n",
       "    .dataframe tbody tr th {\n",
       "        vertical-align: top;\n",
       "    }\n",
       "\n",
       "    .dataframe thead th {\n",
       "        text-align: right;\n",
       "    }\n",
       "</style>\n",
       "<table border=\"1\" class=\"dataframe\">\n",
       "  <thead>\n",
       "    <tr style=\"text-align: right;\">\n",
       "      <th></th>\n",
       "      <th>work_year</th>\n",
       "      <th>experience_level</th>\n",
       "      <th>employment_type</th>\n",
       "      <th>job_title</th>\n",
       "      <th>salary_in_usd</th>\n",
       "      <th>employee_residence</th>\n",
       "      <th>remote_ratio</th>\n",
       "      <th>company_location</th>\n",
       "      <th>company_size</th>\n",
       "    </tr>\n",
       "  </thead>\n",
       "  <tbody>\n",
       "    <tr>\n",
       "      <th>0</th>\n",
       "      <td>2023</td>\n",
       "      <td>Senior Level/Expert</td>\n",
       "      <td>FT</td>\n",
       "      <td>Data Scientist</td>\n",
       "      <td>85847</td>\n",
       "      <td>ES</td>\n",
       "      <td>100</td>\n",
       "      <td>ES</td>\n",
       "      <td>L</td>\n",
       "    </tr>\n",
       "    <tr>\n",
       "      <th>1</th>\n",
       "      <td>2023</td>\n",
       "      <td>Medium Level/Intermediate</td>\n",
       "      <td>CT</td>\n",
       "      <td>ML Engineer</td>\n",
       "      <td>30000</td>\n",
       "      <td>US</td>\n",
       "      <td>100</td>\n",
       "      <td>US</td>\n",
       "      <td>S</td>\n",
       "    </tr>\n",
       "    <tr>\n",
       "      <th>2</th>\n",
       "      <td>2023</td>\n",
       "      <td>Medium Level/Intermediate</td>\n",
       "      <td>CT</td>\n",
       "      <td>ML Engineer</td>\n",
       "      <td>25500</td>\n",
       "      <td>US</td>\n",
       "      <td>100</td>\n",
       "      <td>US</td>\n",
       "      <td>S</td>\n",
       "    </tr>\n",
       "    <tr>\n",
       "      <th>3</th>\n",
       "      <td>2023</td>\n",
       "      <td>Senior Level/Expert</td>\n",
       "      <td>FT</td>\n",
       "      <td>Data Scientist</td>\n",
       "      <td>175000</td>\n",
       "      <td>CA</td>\n",
       "      <td>100</td>\n",
       "      <td>CA</td>\n",
       "      <td>M</td>\n",
       "    </tr>\n",
       "    <tr>\n",
       "      <th>4</th>\n",
       "      <td>2023</td>\n",
       "      <td>Senior Level/Expert</td>\n",
       "      <td>FT</td>\n",
       "      <td>Data Scientist</td>\n",
       "      <td>120000</td>\n",
       "      <td>CA</td>\n",
       "      <td>100</td>\n",
       "      <td>CA</td>\n",
       "      <td>M</td>\n",
       "    </tr>\n",
       "    <tr>\n",
       "      <th>...</th>\n",
       "      <td>...</td>\n",
       "      <td>...</td>\n",
       "      <td>...</td>\n",
       "      <td>...</td>\n",
       "      <td>...</td>\n",
       "      <td>...</td>\n",
       "      <td>...</td>\n",
       "      <td>...</td>\n",
       "      <td>...</td>\n",
       "    </tr>\n",
       "    <tr>\n",
       "      <th>3750</th>\n",
       "      <td>2020</td>\n",
       "      <td>Senior Level/Expert</td>\n",
       "      <td>FT</td>\n",
       "      <td>Data Scientist</td>\n",
       "      <td>412000</td>\n",
       "      <td>US</td>\n",
       "      <td>100</td>\n",
       "      <td>US</td>\n",
       "      <td>L</td>\n",
       "    </tr>\n",
       "    <tr>\n",
       "      <th>3751</th>\n",
       "      <td>2021</td>\n",
       "      <td>Medium Level/Intermediate</td>\n",
       "      <td>FT</td>\n",
       "      <td>Data Scientist</td>\n",
       "      <td>151000</td>\n",
       "      <td>US</td>\n",
       "      <td>100</td>\n",
       "      <td>US</td>\n",
       "      <td>L</td>\n",
       "    </tr>\n",
       "    <tr>\n",
       "      <th>3752</th>\n",
       "      <td>2020</td>\n",
       "      <td>Entry Level</td>\n",
       "      <td>FT</td>\n",
       "      <td>Data Scientist</td>\n",
       "      <td>105000</td>\n",
       "      <td>US</td>\n",
       "      <td>100</td>\n",
       "      <td>US</td>\n",
       "      <td>S</td>\n",
       "    </tr>\n",
       "    <tr>\n",
       "      <th>3753</th>\n",
       "      <td>2020</td>\n",
       "      <td>Entry Level</td>\n",
       "      <td>CT</td>\n",
       "      <td>Data Analyst</td>\n",
       "      <td>100000</td>\n",
       "      <td>US</td>\n",
       "      <td>100</td>\n",
       "      <td>US</td>\n",
       "      <td>L</td>\n",
       "    </tr>\n",
       "    <tr>\n",
       "      <th>3754</th>\n",
       "      <td>2021</td>\n",
       "      <td>Senior Level/Expert</td>\n",
       "      <td>FT</td>\n",
       "      <td>Data Manager</td>\n",
       "      <td>94665</td>\n",
       "      <td>IN</td>\n",
       "      <td>50</td>\n",
       "      <td>IN</td>\n",
       "      <td>L</td>\n",
       "    </tr>\n",
       "  </tbody>\n",
       "</table>\n",
       "<p>2558 rows × 9 columns</p>\n",
       "</div>"
      ],
      "text/plain": [
       "      work_year           experience_level employment_type       job_title  \\\n",
       "0          2023        Senior Level/Expert              FT  Data Scientist   \n",
       "1          2023  Medium Level/Intermediate              CT     ML Engineer   \n",
       "2          2023  Medium Level/Intermediate              CT     ML Engineer   \n",
       "3          2023        Senior Level/Expert              FT  Data Scientist   \n",
       "4          2023        Senior Level/Expert              FT  Data Scientist   \n",
       "...         ...                        ...             ...             ...   \n",
       "3750       2020        Senior Level/Expert              FT  Data Scientist   \n",
       "3751       2021  Medium Level/Intermediate              FT  Data Scientist   \n",
       "3752       2020                Entry Level              FT  Data Scientist   \n",
       "3753       2020                Entry Level              CT    Data Analyst   \n",
       "3754       2021        Senior Level/Expert              FT    Data Manager   \n",
       "\n",
       "      salary_in_usd employee_residence  remote_ratio company_location  \\\n",
       "0             85847                 ES           100               ES   \n",
       "1             30000                 US           100               US   \n",
       "2             25500                 US           100               US   \n",
       "3            175000                 CA           100               CA   \n",
       "4            120000                 CA           100               CA   \n",
       "...             ...                ...           ...              ...   \n",
       "3750         412000                 US           100               US   \n",
       "3751         151000                 US           100               US   \n",
       "3752         105000                 US           100               US   \n",
       "3753         100000                 US           100               US   \n",
       "3754          94665                 IN            50               IN   \n",
       "\n",
       "     company_size  \n",
       "0               L  \n",
       "1               S  \n",
       "2               S  \n",
       "3               M  \n",
       "4               M  \n",
       "...           ...  \n",
       "3750            L  \n",
       "3751            L  \n",
       "3752            S  \n",
       "3753            L  \n",
       "3754            L  \n",
       "\n",
       "[2558 rows x 9 columns]"
      ]
     },
     "execution_count": 32,
     "metadata": {},
     "output_type": "execute_result"
    }
   ],
   "source": [
    "New_data = data.drop_duplicates()\n",
    "New_data"
   ]
  },
  {
   "cell_type": "code",
   "execution_count": 33,
   "id": "4897c827",
   "metadata": {},
   "outputs": [
    {
     "data": {
      "text/html": [
       "<div>\n",
       "<style scoped>\n",
       "    .dataframe tbody tr th:only-of-type {\n",
       "        vertical-align: middle;\n",
       "    }\n",
       "\n",
       "    .dataframe tbody tr th {\n",
       "        vertical-align: top;\n",
       "    }\n",
       "\n",
       "    .dataframe thead th {\n",
       "        text-align: right;\n",
       "    }\n",
       "</style>\n",
       "<table border=\"1\" class=\"dataframe\">\n",
       "  <thead>\n",
       "    <tr style=\"text-align: right;\">\n",
       "      <th></th>\n",
       "      <th>work_year</th>\n",
       "      <th>experience_level</th>\n",
       "      <th>employment_type</th>\n",
       "      <th>job_title</th>\n",
       "      <th>salary_in_usd</th>\n",
       "      <th>employee_residence</th>\n",
       "      <th>remote_ratio</th>\n",
       "      <th>company_location</th>\n",
       "      <th>company_size</th>\n",
       "    </tr>\n",
       "  </thead>\n",
       "  <tbody>\n",
       "  </tbody>\n",
       "</table>\n",
       "</div>"
      ],
      "text/plain": [
       "Empty DataFrame\n",
       "Columns: [work_year, experience_level, employment_type, job_title, salary_in_usd, employee_residence, remote_ratio, company_location, company_size]\n",
       "Index: []"
      ]
     },
     "execution_count": 33,
     "metadata": {},
     "output_type": "execute_result"
    }
   ],
   "source": [
    "New_data[New_data.duplicated()]"
   ]
  },
  {
   "cell_type": "markdown",
   "id": "b42efabb",
   "metadata": {},
   "source": [
    "#### 4.1 Write a python program to find out top 15 jobs. Make a bar graph of sales as well. "
   ]
  },
  {
   "cell_type": "code",
   "execution_count": 34,
   "id": "bcbd902f",
   "metadata": {},
   "outputs": [
    {
     "data": {
      "text/plain": [
       "job_title\n",
       "Data Engineer                 637\n",
       "Data Scientist                593\n",
       "Data Analyst                  454\n",
       "ML Engineer                   263\n",
       "Data Manager                   93\n",
       "Analytics Engineer             91\n",
       "Data Architect                 68\n",
       "Research Scientist             65\n",
       "Machine Learning Scientist     38\n",
       "Research Engineer              33\n",
       "Computer Vision Engineer       23\n",
       "Data Science Consultant        23\n",
       "Head of Data                   19\n",
       "AI Scientist                   16\n",
       "Data Specialist                15\n",
       "Name: count, dtype: int64"
      ]
     },
     "execution_count": 34,
     "metadata": {},
     "output_type": "execute_result"
    }
   ],
   "source": [
    "# counting the occurences of each job_title on New_data\n",
    "job_count = New_data['job_title'].value_counts()\n",
    "# sorting the data in descending order\n",
    "job_sort = job_count.sort_values(ascending = False)\n",
    "# selecting top 15 jobs\n",
    "top_jobs = job_sort.head(15)\n",
    "# printing the top 15 jobs\n",
    "top_jobs"
   ]
  },
  {
   "cell_type": "code",
   "execution_count": 35,
   "id": "304c4b1f",
   "metadata": {},
   "outputs": [
    {
     "data": {
      "text/plain": [
       "<matplotlib.legend.Legend at 0x1a3c1b50650>"
      ]
     },
     "execution_count": 35,
     "metadata": {},
     "output_type": "execute_result"
    },
    {
     "data": {
      "image/png": "[encoded data removed]",
      "text/plain": [
       "<Figure size 640x480 with 1 Axes>"
      ]
     },
     "metadata": {},
     "output_type": "display_data"
    }
   ],
   "source": [
    "# plotting in bar graph \n",
    "top_jobs.plot(kind='bar', color=\"red\")\n",
    "plt.title('Top 15 Jobs')\n",
    "plt.ylabel('Frequency')\n",
    "plt.legend(['Frequency'], loc = \"upper right\")"
   ]
  },
  {
   "cell_type": "markdown",
   "id": "9a749550",
   "metadata": {},
   "source": [
    "#### 4.2 Which job has the highest salaries? Illustrate with bar graph."
   ]
  },
  {
   "cell_type": "code",
   "execution_count": 36,
   "id": "37d78eab",
   "metadata": {},
   "outputs": [],
   "source": [
    "# sorting the data by salary in desending order\n",
    "Sorting_Salary = New_data.sort_values(by='salary_in_usd', ascending=False)\n",
    "# sorting the job title and salaries for the top 5 highest paying jobs\n",
    "Top_5_Jobs = Sorting_Salary['job_title'].head(5).tolist()\n",
    "Top_5_Salaries = Sorting_Salary['salary_in_usd'].head(5).tolist()"
   ]
  },
  {
   "cell_type": "code",
   "execution_count": 37,
   "id": "a4ed2f93",
   "metadata": {},
   "outputs": [
    {
     "data": {
      "text/plain": [
       "([0, 1, 2, 3, 4],\n",
       " [Text(0, 0, 'Research Scientist'),\n",
       "  Text(1, 0, 'Data Analyst'),\n",
       "  Text(2, 0, 'AI Scientist'),\n",
       "  Text(3, 0, 'Machine Learning Scientist'),\n",
       "  Text(4, 0, 'Data Scientist')])"
      ]
     },
     "execution_count": 37,
     "metadata": {},
     "output_type": "execute_result"
    },
    {
     "data": {
      "image/png": "[encoded data removed]",
      "text/plain": [
       "<Figure size 500x300 with 1 Axes>"
      ]
     },
     "metadata": {},
     "output_type": "display_data"
    }
   ],
   "source": [
    "# keeping the figure size\n",
    "plt.figure(figsize=(5,3))\n",
    "plt.bar(Top_5_Jobs, Top_5_Salaries)\n",
    "plt.title('Top 5 Most Paying Jobs')\n",
    "# labeling x-axis as Job Titles\n",
    "plt.xlabel('Job Titles')\n",
    "# labeling y-axis as Salaries\n",
    "plt.ylabel('Salaries')\n",
    "plt.xticks(rotation=90)"
   ]
  },
  {
   "cell_type": "markdown",
   "id": "41c2d299",
   "metadata": {},
   "source": [
    "#### 4.3 Write a python program to find out salaries based on experience level. Illustrate it through bar graph."
   ]
  },
  {
   "cell_type": "code",
   "execution_count": 38,
   "id": "75707b07",
   "metadata": {},
   "outputs": [
    {
     "data": {
      "image/png": "[encoded data removed]",
      "text/plain": [
       "<Figure size 800x600 with 1 Axes>"
      ]
     },
     "metadata": {},
     "output_type": "display_data"
    }
   ],
   "source": [
    "Salary_based_exp = New_data.groupby('experience_level')['salary_in_usd'].max()\n",
    "Experience_Level = Salary_based_exp.index.to_numpy()\n",
    "Salary = Salary_based_exp.to_numpy()\n",
    "plt.figure(figsize=(8,6))\n",
    "plt.bar(Experience_Level, Salary_based_exp)\n",
    "plt.xlabel(\"Experience Level\")\n",
    "plt.ylabel(\"Salary in USD\")\n",
    "plt.title(\" Salaries based on experience level\")\n",
    "plt.xticks(rotation=90)\n",
    "plt.tight_layout()\n",
    "plt.show() "
   ]
  },
  {
   "cell_type": "markdown",
   "id": "3796133e",
   "metadata": {},
   "source": [
    "#### 4.4 Write a Python program to show histogram and box plot of any chosen different variables. Use proper labels in the graph."
   ]
  },
  {
   "cell_type": "code",
   "execution_count": 39,
   "id": "53835bf0",
   "metadata": {},
   "outputs": [
    {
     "data": {
      "text/plain": [
       "Text(0, 0.5, 'Frequency')"
      ]
     },
     "execution_count": 39,
     "metadata": {},
     "output_type": "execute_result"
    },
    {
     "data": {
      "image/png": "[encoded data removed]",
      "text/plain": [
       "<Figure size 640x480 with 1 Axes>"
      ]
     },
     "metadata": {},
     "output_type": "display_data"
    }
   ],
   "source": [
    "# histogram of salary in USD\n",
    "plt.hist(New_data['salary_in_usd'], color=\"pink\", edgecolor=\"black\")\n",
    "plt.title(\"Histogram of variable Salary in USD\")\n",
    "plt.xticks(rotation=90) \n",
    "plt.xlabel(\"Values\")\n",
    "plt.ylabel(\"Frequency\")"
   ]
  },
  {
   "cell_type": "code",
   "execution_count": 40,
   "id": "5b6a3820",
   "metadata": {},
   "outputs": [
    {
     "data": {
      "text/plain": [
       "Text(0.5, 1.0, 'Box Plot of the Work Year')"
      ]
     },
     "execution_count": 40,
     "metadata": {},
     "output_type": "execute_result"
    },
    {
     "data": {
      "image/png": "[encoded data removed]",
      "text/plain": [
       "<Figure size 640x480 with 1 Axes>"
      ]
     },
     "metadata": {},
     "output_type": "display_data"
    }
   ],
   "source": [
    "# box plot of variable work year\n",
    "plt.boxplot(data['work_year'])\n",
    "plt.title(\"Box Plot of the Work Year\")"
   ]
  },
  {
   "cell_type": "code",
   "execution_count": null,
   "id": "ee0baee5",
   "metadata": {},
   "outputs": [],
   "source": []
  }
 ],
 "metadata": {
  "kernelspec": {
   "display_name": "Python 3 (ipykernel)",
   "language": "python",
   "name": "python3"
  },
  "language_info": {
   "codemirror_mode": {
    "name": "ipython",
    "version": 3
   },
   "file_extension": ".py",
   "mimetype": "text/x-python",
   "name": "python",
   "nbconvert_exporter": "python",
   "pygments_lexer": "ipython3",
   "version": "3.11.5"
  }
 },
 "nbformat": 4,
 "nbformat_minor": 5
}
